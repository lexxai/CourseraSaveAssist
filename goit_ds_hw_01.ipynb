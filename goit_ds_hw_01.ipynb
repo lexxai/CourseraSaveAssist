{
  "nbformat": 4,
  "nbformat_minor": 0,
  "metadata": {
    "colab": {
      "provenance": [],
      "authorship_tag": "ABX9TyOoE6jKXEDavuujMuD9xi8c",
      "include_colab_link": true
    },
    "kernelspec": {
      "name": "python3",
      "display_name": "Python 3"
    },
    "language_info": {
      "name": "python"
    }
  },
  "cells": [
    {
      "cell_type": "markdown",
      "metadata": {
        "id": "view-in-github",
        "colab_type": "text"
      },
      "source": [
        "<a href=\"https://colab.research.google.com/github/lexxai/CourseraSaveAssist/blob/main/goit_ds_hw_01.ipynb\" target=\"_parent\"><img src=\"https://colab.research.google.com/assets/colab-badge.svg\" alt=\"Open In Colab\"/></a>"
      ]
    },
    {
      "cell_type": "code",
      "execution_count": 1,
      "metadata": {
        "id": "9NZwAeL35Pko"
      },
      "outputs": [],
      "source": [
        "import numpy as np"
      ]
    },
    {
      "cell_type": "markdown",
      "source": [
        "# Task 1"
      ],
      "metadata": {
        "id": "FXCHraFqE2Lt"
      }
    },
    {
      "cell_type": "code",
      "source": [
        "task1 = np.array([0,1,2,3,4,5,6,7,8,9])\n",
        "print(f\"{task1=}\")\n",
        "task1_1 = np.arange(0,10)\n",
        "print(f\"{task1_1=}\")\n",
        "task1_2 = np.linspace(0,9,num=10, dtype=int)\n",
        "print(f\"{task1_2=}\")"
      ],
      "metadata": {
        "colab": {
          "base_uri": "https://localhost:8080/"
        },
        "id": "ChcGW4s_9Fkv",
        "outputId": "6e19d931-c9bd-4711-db9c-67d3b742516c"
      },
      "execution_count": 15,
      "outputs": [
        {
          "output_type": "stream",
          "name": "stdout",
          "text": [
            "task1=array([0, 1, 2, 3, 4, 5, 6, 7, 8, 9])\n",
            "task1_1=array([0, 1, 2, 3, 4, 5, 6, 7, 8, 9])\n",
            "task1_2=array([0, 1, 2, 3, 4, 5, 6, 7, 8, 9])\n"
          ]
        }
      ]
    },
    {
      "cell_type": "markdown",
      "source": [
        "# Task 2"
      ],
      "metadata": {
        "id": "6L9J6QRoE6LX"
      }
    },
    {
      "cell_type": "code",
      "source": [
        "task2 = np.zeros((3,3))\n",
        "task2"
      ],
      "metadata": {
        "colab": {
          "base_uri": "https://localhost:8080/"
        },
        "id": "glrrK0lr9pMS",
        "outputId": "9374408e-c7c1-4edf-e8a5-d3ee1e3bfe44"
      },
      "execution_count": 17,
      "outputs": [
        {
          "output_type": "execute_result",
          "data": {
            "text/plain": [
              "array([[0., 0., 0.],\n",
              "       [0., 0., 0.],\n",
              "       [0., 0., 0.]])"
            ]
          },
          "metadata": {},
          "execution_count": 17
        }
      ]
    },
    {
      "cell_type": "code",
      "source": [
        "task2_1 = np.zeros(9).reshape(3,3)\n",
        "task2_1"
      ],
      "metadata": {
        "colab": {
          "base_uri": "https://localhost:8080/"
        },
        "id": "gp7b7kL5_7dK",
        "outputId": "65cf0665-8743-4212-afa3-d8dd83797a6d"
      },
      "execution_count": 19,
      "outputs": [
        {
          "output_type": "execute_result",
          "data": {
            "text/plain": [
              "array([[0., 0., 0.],\n",
              "       [0., 0., 0.],\n",
              "       [0., 0., 0.]])"
            ]
          },
          "metadata": {},
          "execution_count": 19
        }
      ]
    },
    {
      "cell_type": "markdown",
      "source": [
        "# Task 3"
      ],
      "metadata": {
        "id": "oW5VPAEJE-CD"
      }
    },
    {
      "cell_type": "code",
      "source": [
        "task3 = np.random.randint(1, 10+1, size=(5,5))\n",
        "task3"
      ],
      "metadata": {
        "colab": {
          "base_uri": "https://localhost:8080/"
        },
        "id": "iKWKOsIk92kv",
        "outputId": "5991bef0-0b5a-4c8e-bd41-6ee3d2c4ca0d"
      },
      "execution_count": 25,
      "outputs": [
        {
          "output_type": "execute_result",
          "data": {
            "text/plain": [
              "array([[ 6, 10,  1,  1,  4],\n",
              "       [ 5,  6,  6,  7,  8],\n",
              "       [ 5,  9,  3,  4,  2],\n",
              "       [ 5,  8,  8,  2,  8],\n",
              "       [ 8,  3,  2, 10,  7]])"
            ]
          },
          "metadata": {},
          "execution_count": 25
        }
      ]
    },
    {
      "cell_type": "markdown",
      "source": [
        "# Task 4"
      ],
      "metadata": {
        "id": "KbNibhgKE_g9"
      }
    },
    {
      "cell_type": "code",
      "source": [
        "task4 = np.random.random((4,4))\n",
        "task4"
      ],
      "metadata": {
        "colab": {
          "base_uri": "https://localhost:8080/"
        },
        "id": "Yqa0fKmWB6HS",
        "outputId": "8091fa6c-b6ad-4c6a-cf3d-562af9c78728"
      },
      "execution_count": 28,
      "outputs": [
        {
          "output_type": "execute_result",
          "data": {
            "text/plain": [
              "array([[0.28775589, 0.82560159, 0.49149694, 0.34513234],\n",
              "       [0.50330119, 0.29180562, 0.60669467, 0.76189471],\n",
              "       [0.85272972, 0.2010841 , 0.46186637, 0.99721089],\n",
              "       [0.57253426, 0.45438321, 0.23341378, 0.17336526]])"
            ]
          },
          "metadata": {},
          "execution_count": 28
        }
      ]
    },
    {
      "cell_type": "markdown",
      "source": [
        "# Task 5"
      ],
      "metadata": {
        "id": "pOuCdxP7DXMx"
      }
    },
    {
      "cell_type": "code",
      "source": [
        "task5_1 = np.random.random(5)\n",
        "task5_1"
      ],
      "metadata": {
        "colab": {
          "base_uri": "https://localhost:8080/"
        },
        "id": "ZBRLV2dBCvPv",
        "outputId": "61c6c199-9459-4918-da55-acc47b76bb1e"
      },
      "execution_count": 36,
      "outputs": [
        {
          "output_type": "execute_result",
          "data": {
            "text/plain": [
              "array([0.98157245, 0.36701683, 0.7800131 , 0.36367432, 0.18152624])"
            ]
          },
          "metadata": {},
          "execution_count": 36
        }
      ]
    },
    {
      "cell_type": "code",
      "source": [
        "task5_2 = np.random.random(5)\n",
        "task5_2"
      ],
      "metadata": {
        "colab": {
          "base_uri": "https://localhost:8080/"
        },
        "id": "dOSppmR4DdFM",
        "outputId": "d9a71807-05c3-4328-decd-32368cd4bac0"
      },
      "execution_count": 32,
      "outputs": [
        {
          "output_type": "execute_result",
          "data": {
            "text/plain": [
              "array([0.04677467, 0.72064463, 0.25740735, 0.94894335, 0.36866836])"
            ]
          },
          "metadata": {},
          "execution_count": 32
        }
      ]
    },
    {
      "cell_type": "code",
      "source": [
        "task5_1 + task5_2"
      ],
      "metadata": {
        "colab": {
          "base_uri": "https://localhost:8080/"
        },
        "id": "njVxu333DjD5",
        "outputId": "111788ff-6d64-47a2-e4b7-c0942946f055"
      },
      "execution_count": 33,
      "outputs": [
        {
          "output_type": "execute_result",
          "data": {
            "text/plain": [
              "array([1.0061941 , 1.56627325, 1.09924135, 1.52926795, 1.02121315])"
            ]
          },
          "metadata": {},
          "execution_count": 33
        }
      ]
    },
    {
      "cell_type": "code",
      "source": [
        "task5_1 - task5_2"
      ],
      "metadata": {
        "colab": {
          "base_uri": "https://localhost:8080/"
        },
        "id": "eile5mKNDn9Q",
        "outputId": "0bf6d293-1187-49e1-e055-80440ccd653c"
      },
      "execution_count": 34,
      "outputs": [
        {
          "output_type": "execute_result",
          "data": {
            "text/plain": [
              "array([ 0.91264477,  0.12498399,  0.58442665, -0.36861874,  0.28387643])"
            ]
          },
          "metadata": {},
          "execution_count": 34
        }
      ]
    },
    {
      "cell_type": "code",
      "source": [
        "task5_1 * task5_2"
      ],
      "metadata": {
        "colab": {
          "base_uri": "https://localhost:8080/"
        },
        "id": "Xclqb0vNDq4Z",
        "outputId": "59832024-20ca-43d5-beb6-ab7215dd90ff"
      },
      "execution_count": 35,
      "outputs": [
        {
          "output_type": "execute_result",
          "data": {
            "text/plain": [
              "array([0.04487652, 0.60939772, 0.21669426, 0.55069518, 0.24057262])"
            ]
          },
          "metadata": {},
          "execution_count": 35
        }
      ]
    },
    {
      "cell_type": "markdown",
      "source": [
        "# Task 6"
      ],
      "metadata": {
        "id": "pGWq5yn9D4Gi"
      }
    },
    {
      "cell_type": "code",
      "source": [
        "task6_1 = np.array([55,66,54,0,88,67,-89])\n",
        "print(task6_1.shape)\n",
        "task6_1\n"
      ],
      "metadata": {
        "colab": {
          "base_uri": "https://localhost:8080/"
        },
        "id": "irfPkCbPD66f",
        "outputId": "b6488739-98c5-4170-889e-40fdfa83c66d"
      },
      "execution_count": 42,
      "outputs": [
        {
          "output_type": "stream",
          "name": "stdout",
          "text": [
            "(7,)\n"
          ]
        },
        {
          "output_type": "execute_result",
          "data": {
            "text/plain": [
              "array([ 55,  66,  54,   0,  88,  67, -89])"
            ]
          },
          "metadata": {},
          "execution_count": 42
        }
      ]
    },
    {
      "cell_type": "code",
      "source": [
        "task6_2 = np.array([33,22,11,16,67,82,9])\n",
        "print(task6_2.shape)\n",
        "task6_2\n"
      ],
      "metadata": {
        "colab": {
          "base_uri": "https://localhost:8080/"
        },
        "id": "9-pFPcOsEqgN",
        "outputId": "605bb65a-7545-4fbb-93dc-82d1b13db56b"
      },
      "execution_count": 43,
      "outputs": [
        {
          "output_type": "stream",
          "name": "stdout",
          "text": [
            "(7,)\n"
          ]
        },
        {
          "output_type": "execute_result",
          "data": {
            "text/plain": [
              "array([33, 22, 11, 16, 67, 82,  9])"
            ]
          },
          "metadata": {},
          "execution_count": 43
        }
      ]
    },
    {
      "cell_type": "code",
      "source": [
        "np.dot(task6_1, task6_2)"
      ],
      "metadata": {
        "colab": {
          "base_uri": "https://localhost:8080/"
        },
        "id": "qfhAMB72Ez_F",
        "outputId": "ffe3195c-3327-46d0-e22c-5e92df39e7a7"
      },
      "execution_count": 45,
      "outputs": [
        {
          "output_type": "execute_result",
          "data": {
            "text/plain": [
              "14450"
            ]
          },
          "metadata": {},
          "execution_count": 45
        }
      ]
    },
    {
      "cell_type": "code",
      "source": [
        "np.sum(task6_1*task6_2)"
      ],
      "metadata": {
        "colab": {
          "base_uri": "https://localhost:8080/"
        },
        "id": "F09O1UwVFykF",
        "outputId": "a9e49aeb-c009-4de0-9863-b995493dc6c1"
      },
      "execution_count": 46,
      "outputs": [
        {
          "output_type": "execute_result",
          "data": {
            "text/plain": [
              "14450"
            ]
          },
          "metadata": {},
          "execution_count": 46
        }
      ]
    },
    {
      "cell_type": "markdown",
      "source": [
        "# Task 7"
      ],
      "metadata": {
        "id": "vi6SHERmFhoS"
      }
    },
    {
      "cell_type": "code",
      "source": [],
      "metadata": {
        "id": "R3eCtq91FlAb"
      },
      "execution_count": null,
      "outputs": []
    }
  ]
}